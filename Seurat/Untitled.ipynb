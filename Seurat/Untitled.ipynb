{
 "cells": [
  {
   "cell_type": "markdown",
   "id": "ed03a68a",
   "metadata": {},
   "source": [
    "# Vignette for MultiMode 10X Genomics data"
   ]
  },
  {
   "cell_type": "markdown",
   "id": "d063f6d1",
   "metadata": {},
   "source": [
    "WNN analysis of 10x Multiome, RNA + ATAC\n",
    "\n",
    "https://satijalab.org/seurat/articles/weighted_nearest_neighbor_analysis.html\n",
    "\n",
    "Here we use our our human brain cell data to differ from the vignette supplied\n",
    "in order to run the vignette, make sure the following packages are installed:\n",
    "\n",
    "Seurat v4\n",
    "Signac for the analysis of single-cell chromatin datasets\n",
    "EnsDb.Hsapiens.v86 for a set of annotations for hg38\n",
    "dplyr to help manipulate data table\n",
    "\n"
   ]
  },
  {
   "cell_type": "code",
   "execution_count": 3,
   "id": "1e49a286",
   "metadata": {},
   "outputs": [
    {
     "name": "stderr",
     "output_type": "stream",
     "text": [
      "Installing package into ‘/home/tcr121/R/x86_64-pc-linux-gnu-library/4.2’\n",
      "(as ‘lib’ is unspecified)\n",
      "\n",
      "also installing the dependencies ‘formatR’, ‘lambda.r’, ‘futile.options’, ‘futile.logger’, ‘snow’, ‘RCurl’, ‘GenomeInfoDbData’, ‘XVector’, ‘Biostrings’, ‘zlibbioc’, ‘BiocParallel’, ‘Rhtslib’, ‘GenomeInfoDb’, ‘GenomicRanges’, ‘IRanges’, ‘Rsamtools’, ‘S4Vectors’, ‘BiocGenerics’, ‘fastmatch’, ‘RcppRoll’\n",
      "\n",
      "\n"
     ]
    }
   ],
   "source": [
    "# optional if already installed\n",
    "setRepositories(ind=1:3) # needed to automatically install Bioconductor dependencies\n",
    "install.packages(\"Signac\")"
   ]
  },
  {
   "cell_type": "code",
   "execution_count": null,
   "id": "fa6ef801",
   "metadata": {},
   "outputs": [
    {
     "name": "stderr",
     "output_type": "stream",
     "text": [
      "Installing package into ‘/home/tcr121/R/x86_64-pc-linux-gnu-library/4.2’\n",
      "(as ‘lib’ is unspecified)\n",
      "\n",
      "'getOption(\"repos\")' replaces Bioconductor standard repositories, see\n",
      "'?repositories' for details\n",
      "\n",
      "replacement repositories:\n",
      "    CRAN: https://cloud.r-project.org\n",
      "    BioCsoft: https://bioconductor.org/packages/3.15/bioc\n",
      "    BioCann: https://bioconductor.org/packages/3.15/data/annotation\n",
      "\n",
      "\n",
      "Bioconductor version 3.15 (BiocManager 1.30.19), R 4.2.0 (2022-04-22)\n",
      "\n",
      "Installing package(s) 'BiocVersion'\n",
      "\n",
      "Installation paths not writeable, unable to update packages\n",
      "  path: /usr/lib/R/library\n",
      "  packages:\n",
      "    cluster, foreign, MASS, Matrix, mgcv, nlme, nnet, rpart, spatial, survival\n",
      "\n",
      "Old packages: 'fontawesome', 'shiny', 'spatstat.geom'\n",
      "\n",
      "'getOption(\"repos\")' replaces Bioconductor standard repositories, see\n",
      "'?repositories' for details\n",
      "\n",
      "replacement repositories:\n",
      "    CRAN: https://cloud.r-project.org\n",
      "    BioCsoft: https://bioconductor.org/packages/3.15/bioc\n",
      "    BioCann: https://bioconductor.org/packages/3.15/data/annotation\n",
      "\n",
      "\n",
      "Bioconductor version 3.15 (BiocManager 1.30.19), R 4.2.0 (2022-04-22)\n",
      "\n",
      "Installing package(s) 'BSgenome.Hsapiens.UCSC.hg38', 'EnsDb.Hsapiens.v86'\n",
      "\n",
      "also installing the dependencies ‘assertthat’, ‘MatrixGenerics’, ‘DelayedArray’, ‘hms’, ‘dbplyr’, ‘filelock’, ‘SummarizedExperiment’, ‘rjson’, ‘progress’, ‘BiocFileCache’, ‘bit’, ‘XML’, ‘GenomicAlignments’, ‘BiocIO’, ‘restfulr’, ‘biomaRt’, ‘bit64’, ‘blob’, ‘plogr’, ‘KEGGREST’, ‘rtracklayer’, ‘GenomicFeatures’, ‘AnnotationFilter’, ‘RSQLite’, ‘DBI’, ‘Biobase’, ‘AnnotationDbi’, ‘ProtGenerics’, ‘BSgenome’, ‘ensembldb’\n",
      "\n",
      "\n"
     ]
    }
   ],
   "source": [
    "#optional if already installed\n",
    "if (!require(\"BiocManager\", quietly = TRUE))\n",
    "    install.packages(\"BiocManager\")\n",
    "BiocManager::install(version = \"3.15\")\n",
    "BiocManager::install(c('BSgenome.Hsapiens.UCSC.hg38', 'EnsDb.Hsapiens.v86'))"
   ]
  },
  {
   "cell_type": "code",
   "execution_count": 4,
   "id": "b18acdcd",
   "metadata": {},
   "outputs": [
    {
     "ename": "ERROR",
     "evalue": "Error in library(EnsDb.Hsapiens.v86): there is no package called ‘EnsDb.Hsapiens.v86’\n",
     "output_type": "error",
     "traceback": [
      "Error in library(EnsDb.Hsapiens.v86): there is no package called ‘EnsDb.Hsapiens.v86’\nTraceback:\n",
      "1. library(EnsDb.Hsapiens.v86)"
     ]
    }
   ],
   "source": [
    "library(Seurat)\n",
    "library(Signac)\n",
    "library(EnsDb.Hsapiens.v86)\n",
    "library(dplyr)\n",
    "library(ggplot2)"
   ]
  },
  {
   "cell_type": "code",
   "execution_count": null,
   "id": "0d6bf8a0",
   "metadata": {},
   "outputs": [],
   "source": []
  },
  {
   "cell_type": "code",
   "execution_count": null,
   "id": "fbda1fbc",
   "metadata": {},
   "outputs": [],
   "source": []
  }
 ],
 "metadata": {
  "kernelspec": {
   "display_name": "R",
   "language": "R",
   "name": "ir"
  },
  "language_info": {
   "codemirror_mode": "r",
   "file_extension": ".r",
   "mimetype": "text/x-r-source",
   "name": "R",
   "pygments_lexer": "r",
   "version": "4.2.0"
  }
 },
 "nbformat": 4,
 "nbformat_minor": 5
}
